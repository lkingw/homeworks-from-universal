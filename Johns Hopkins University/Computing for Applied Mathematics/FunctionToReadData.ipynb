{
 "cells": [
  {
   "cell_type": "markdown",
   "id": "d26046b4-232d-4ae1-9959-311f7ec90831",
   "metadata": {},
   "source": [
    "**Function to read a training or test dataset and return a pandas data frame**\n",
    "\n",
    "**Input:** fileid for the training data set or test dataset (csv file) that you downloaded to your computer\n",
    "\n",
    "**Output:** a pandas dataframe\n",
    "\n",
    "Note that the two datasets provided each consist of string fields.\n",
    "- All numeric fields are converted to floats \n",
    "(even integer fields since we can't have missing values in a pandas int series)\n",
    "- All string fields remain as objects.\n",
    "- Dates are converted to datetime.\n",
    "\n"
   ]
  },
  {
   "cell_type": "code",
   "execution_count": 178,
   "id": "b2652fda-7057-46bb-97c5-808a58774140",
   "metadata": {},
   "outputs": [],
   "source": [
    "import pandas as pd\n",
    "import numpy as np\n",
    "\n",
    "\n",
    "def read_data(fileid): \n",
    "    stringvariables=[\"LOAN_ID\",\"CHANNEL\", \"FIRST_TIME_HOME_BUYER_IND\",\n",
    "                  \"LOAN_PURPOSE\", \"PROPERTY_TYPE\", \"OCCUPANCY_STATUS\",\n",
    "                  \"PROPERTY_STATE\", \"ZIP_CODE_SHORT\"]\n",
    "    floatvariables=[\"NUMBER_OF_UNITS\",\"FORECLOSURE\",\"LTV\",\n",
    "                   \"NUMBER_OF_BORROWERS\",\"DTI\",\"LOAN_AGE\",\n",
    "                   \"REM_MONTHS_LEGAL_MATURITY\", \"REM_MONTHS_MATURITY\",\n",
    "                   \"ORIGINAL_LOAN_TERM\", \"CLTV\",\n",
    "                   \"B_CREDIT_SCORE_O\",\"CB_CREDIT_SCORE_O\", \"NMONTHS\",\n",
    "                   \"MSA\",\"MORTGAGE_INSURANCE_PERCENTAGE\",\n",
    "                   \"ORIGINAL_INTEREST_RATE\", \"CURRENT_INTEREST_RATE\",\n",
    "                   \"ORIGINAL_UPB\"]\n",
    "    datevariables=[\"MONTHLY_REPORTING_PERIOD\",\n",
    "                   \"ORIGINATION_DATE\",\n",
    "                   \"FIRST_PAYMENT_DATE\",\n",
    "                   \"MATURITY_DATE\"]\n",
    "    objectvariables=stringvariables + datevariables\n",
    "    dtypes={}\n",
    "    for s in objectvariables:\n",
    "        dtypes[s]=\"object\"\n",
    "    for s in floatvariables:\n",
    "        dtypes[s]=\"float\"\n",
    "    na_strings=[\"\".join([\" \" for j in range(m)]) for m in range(10)]\n",
    "    df=pd.read_csv(fileid,dtype=dtypes,na_values=na_strings)\n",
    "    for datevar in datevariables:\n",
    "        df[datevar]=pd.to_datetime(df[datevar],format=\"%m%Y\")\n",
    "    return(df)\n"
   ]
  },
  {
   "cell_type": "code",
   "execution_count": 183,
   "id": "c647fd49-b6c3-42e3-9efc-253969af3b1e",
   "metadata": {},
   "outputs": [
    {
     "name": "stdout",
     "output_type": "stream",
     "text": [
      "Mean absolute error: 34.03310512747064\n"
     ]
    }
   ],
   "source": [
    "# Import necessary modules\n",
    "import pandas as pd\n",
    "from sklearn import preprocessing\n",
    "from sklearn.ensemble import RandomForestRegressor\n",
    "from sklearn.model_selection import train_test_split\n",
    "from sklearn.metrics import mean_absolute_error, mean_squared_error\n",
    "from sklearn.preprocessing import LabelEncoder\n",
    "\n",
    "def feature_encode(df, features):\n",
    "    le = LabelEncoder()\n",
    "    for feature in features:\n",
    "        df[feature] = le.fit_transform(df[feature])\n",
    "    return df\n",
    "\n",
    "def fill_by_mean(df, features):\n",
    "    for feature in features:\n",
    "        df[feature].fillna(value=df[feature].mean(), inplace=True)\n",
    "    return df\n",
    "\n",
    "# Read the data\n",
    "train_data = 'trainTXMM.csv'\n",
    "test_data = 'test_predsTXMM.csv'\n",
    "\n",
    "train_df = read_data(train_data)\n",
    "test_df = read_data(test_data)\n",
    "\n",
    "# Encode the categorical fields as numbers\n",
    "category_cols = ['FIRST_TIME_HOME_BUYER_IND', 'LOAN_PURPOSE', 'PROPERTY_TYPE', 'CHANNEL', 'PROPERTY_STATE', 'OCCUPANCY_STATUS']\n",
    "train_df = feature_encode(train_df, category_cols)\n",
    "test_df = feature_encode(test_df, category_cols)\n",
    "\n",
    "# remove records in train dataset contain NA value\n",
    "train_df = train_df.dropna()\n",
    "\n",
    "# fill the NA value for test dataset\n",
    "na_features = ['CURRENT_INTEREST_RATE', 'LOAN_AGE', 'REM_MONTHS_LEGAL_MATURITY', 'REM_MONTHS_MATURITY', 'LTV', 'CLTV', 'NUMBER_OF_BORROWERS', 'DTI', 'B_CREDIT_SCORE_O']\n",
    "test_df = fill_by_mean(test_df, na_features)\n",
    "test_df.fillna(method='ffill', inplace=True)\n",
    "\n",
    "# extract new feature from data\n",
    "train_df['ORIGINATION_YEAR'] = pd.DatetimeIndex(train_df['ORIGINATION_DATE']).year\n",
    "train_df['DURATION'] = pd.DatetimeIndex(train_df['MATURITY_DATE']).year - pd.DatetimeIndex(train_df['ORIGINATION_DATE']).year\n",
    "test_df['ORIGINATION_YEAR'] = pd.DatetimeIndex(test_df['ORIGINATION_DATE']).year\n",
    "test_df['DURATION'] = pd.DatetimeIndex(test_df['MATURITY_DATE']).year - pd.DatetimeIndex(test_df['ORIGINATION_DATE']).year\n",
    "\n",
    "# Select the response variable and the input features\n",
    "y_train = train_df['NMONTHS']\n",
    "X_train = train_df.drop(['NMONTHS', 'LOAN_ID', 'MONTHLY_REPORTING_PERIOD', 'ORIGINATION_DATE', 'FIRST_PAYMENT_DATE', 'MATURITY_DATE', 'FORECLOSURE', 'CB_CREDIT_SCORE_O', 'MORTGAGE_INSURANCE_PERCENTAGE'], axis=1)\n",
    "X_test = test_df.drop(['LOAN_ID', 'MONTHLY_REPORTING_PERIOD', 'ORIGINATION_DATE', 'FIRST_PAYMENT_DATE', 'MATURITY_DATE',  'CB_CREDIT_SCORE_O', 'MORTGAGE_INSURANCE_PERCENTAGE'], axis=1)\n",
    "\n",
    "# Evaluate the importances of the input features\n",
    "model = RandomForestRegressor()\n",
    "model.fit(X_train, y_train)\n",
    "importances = model.feature_importances_\n",
    "\n",
    "# Select the features having significant impact on the response variable\n",
    "significant_features = []\n",
    "for i, importance in enumerate(importances):\n",
    "    if importance >= 0.01:\n",
    "        significant_features.append(X_train.columns[i])\n",
    "\n",
    "# Build the regression model using the significant features\n",
    "X_selected = X_train[significant_features]\n",
    "X_test = X_test[significant_features]\n",
    "\n",
    "# Split the data into training and testing sets\n",
    "X_train, X_val, y_train, y_val = train_test_split(X_selected, y_train, test_size=0.2, random_state=42)\n",
    "\n",
    "# Normalize fetures\n",
    "X_train = preprocessing.StandardScaler().fit(X_train).transform(X_train)\n",
    "X_test = preprocessing.StandardScaler().fit(X_test).transform(X_test)\n",
    "X_val = preprocessing.StandardScaler().fit(X_val).transform(X_val)\n",
    "\n",
    "# Train the model\n",
    "NMONTHS_model = RandomForestRegressor()\n",
    "NMONTHS_model.fit(X_train, y_train)\n",
    "\n",
    "# Evaluate the model performance on the testing set\n",
    "y_pred = NMONTHS_model.predict(X_val)\n",
    "mse = mean_absolute_error(y_val, y_pred)\n",
    "print('Mean absolute error:', mse)"
   ]
  },
  {
   "cell_type": "code",
   "execution_count": 184,
   "id": "da610a3a",
   "metadata": {},
   "outputs": [
    {
     "name": "stdout",
     "output_type": "stream",
     "text": [
      "              precision    recall  f1-score   support\n",
      "\n",
      "         0.0       0.72      0.70      0.71      3358\n",
      "         1.0       0.71      0.72      0.71      3318\n",
      "\n",
      "    accuracy                           0.71      6676\n",
      "   macro avg       0.71      0.71      0.71      6676\n",
      "weighted avg       0.71      0.71      0.71      6676\n",
      "\n"
     ]
    }
   ],
   "source": [
    "from sklearn.linear_model import LogisticRegression\n",
    "from sklearn.metrics import classification_report\n",
    "from sklearn.utils import resample\n",
    "\n",
    "y_train = train_df['FORECLOSURE']\n",
    "\n",
    "# Oversample the data to balance the labels\n",
    "X_oversampled, y_oversampled = resample(X_selected[y_train==1], y_train[y_train==1], n_samples=len(X_selected[y_train==0]), random_state=42)\n",
    "X_resampled = pd.concat([X_selected[y_train==0], X_oversampled])\n",
    "y_resampled = pd.concat([y_train[y_train==0], y_oversampled])\n",
    "\n",
    "# Split the data into training and test sets\n",
    "X_train, X_val, y_train, y_val = train_test_split(X_resampled, y_resampled, test_size=0.2)\n",
    "\n",
    "# Normalize fetures\n",
    "X_train = preprocessing.StandardScaler().fit(X_train).transform(X_train)\n",
    "X_val = preprocessing.StandardScaler().fit(X_val).transform(X_val)\n",
    "\n",
    "# Build the logistic regression model\n",
    "FORECLOSURE_model = LogisticRegression(solver='lbfgs', max_iter=500)\n",
    "FORECLOSURE_model.fit(X_train, y_train)\n",
    "\n",
    "# Evaluate the model on the test data\n",
    "y_pred = FORECLOSURE_model.predict(X_val)\n",
    "print(classification_report(y_val, y_pred))"
   ]
  },
  {
   "cell_type": "code",
   "execution_count": 189,
   "id": "b93714f4",
   "metadata": {},
   "outputs": [
    {
     "name": "stdout",
     "output_type": "stream",
     "text": [
      "0.04254352865513211\n"
     ]
    }
   ],
   "source": [
    "NMONTHS_result = NMONTHS_model.predict(X_test)\n",
    "FORECLOSURE_result = FORECLOSURE_model.predict_proba(X_test)\n",
    "BOUNDRY_VALUE = np.sort(FORECLOSURE_result[:,0], axis=None)[1000]\n",
    "print(BOUNDRY_VALUE)\n",
    "FORECLOSURE_result[:,0] = FORECLOSURE_result[:,0] < BOUNDRY_VALUE\n",
    "FORECLOSURE_result[:,1] = FORECLOSURE_result[:,1] > 1\n",
    "LOAN_ID = test_df['LOAN_ID']\n",
    "result_tuples = list(zip(LOAN_ID, NMONTHS_result, FORECLOSURE_result[:,0]))\n",
    "df = pd.DataFrame(result_tuples,\n",
    "                  columns=['LOAN_ID', 'NMONTHS', 'FORECLOSURE'])\n",
    "df.to_csv('preds.csv', index=False) "
   ]
  },
  {
   "cell_type": "code",
   "execution_count": null,
   "id": "77d5a750",
   "metadata": {},
   "outputs": [],
   "source": []
  }
 ],
 "metadata": {
  "kernelspec": {
   "display_name": "base",
   "language": "python",
   "name": "python3"
  },
  "language_info": {
   "codemirror_mode": {
    "name": "ipython",
    "version": 3
   },
   "file_extension": ".py",
   "mimetype": "text/x-python",
   "name": "python",
   "nbconvert_exporter": "python",
   "pygments_lexer": "ipython3",
   "version": "3.9.15"
  },
  "vscode": {
   "interpreter": {
    "hash": "12ae8a920e78ac96d35368b189fb14fa82afcad62d0ccbec913e3c5630255fe3"
   }
  }
 },
 "nbformat": 4,
 "nbformat_minor": 5
}
