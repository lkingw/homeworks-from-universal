{
 "cells": [
  {
   "cell_type": "markdown",
   "id": "32f8ca24",
   "metadata": {},
   "source": [
    "# Understanding Hired Rides in NYC\n",
    "\n",
    "_[Project prompt](https://docs.google.com/document/d/1VERPjEZcC1XSs4-02aM-DbkNr_yaJVbFjLJxaYQswqA/edit#)_\n",
    "\n",
    "_This scaffolding notebook may be used to help setup your final project. It's **totally optional** whether you make use of this or not._\n",
    "\n",
    "_If you do use this notebook, everything provided is optional as well - you may remove or add prose and code as you wish._\n",
    "\n",
    "_Anything in italics (prose) or comments (in code) is meant to provide you with guidance. **Remove the italic lines and provided comments** before submitting the project, if you choose to use this scaffolding. We don't need the guidance when grading._\n",
    "\n",
    "_**All code below should be consider \"pseudo-code\" - not functional by itself, and only a suggestion at the approach.**_"
   ]
  },
  {
   "cell_type": "markdown",
   "id": "25627e8d",
   "metadata": {},
   "source": [
    "## Requirements\n",
    "\n",
    "_A checklist of requirements to keep you on track. Remove this whole cell before submitting the project._\n",
    "\n",
    "* Code clarity: make sure the code conforms to:\n",
    "    * [ ] [PEP 8](https://peps.python.org/pep-0008/) - You might find [this resource](https://realpython.com/python-pep8/) helpful as well as [this](https://github.com/dnanhkhoa/nb_black) or [this](https://jupyterlab-code-formatter.readthedocs.io/en/latest/) tool\n",
    "    * [ ] [PEP 257](https://peps.python.org/pep-0257/)\n",
    "    * [ ] Break each task down into logical functions\n",
    "* The following files are submitted for the project (see the project's GDoc for more details):\n",
    "    * [ ] `README.md`\n",
    "    * [ ] `requirements.txt`\n",
    "    * [ ] `.gitignore`\n",
    "    * [ ] `schema.sql`\n",
    "    * [ ] 6 query files (using the `.sql` extension), appropriately named for the purpose of the query\n",
    "    * [x] Jupyter Notebook containing the project (this file!)\n",
    "* [x] You can edit this cell and add a `x` inside the `[ ]` like this task to denote a completed task"
   ]
  },
  {
   "cell_type": "markdown",
   "id": "2f75fd94",
   "metadata": {},
   "source": [
    "## Project Setup"
   ]
  },
  {
   "cell_type": "code",
   "execution_count": 130,
   "id": "4212b1e3",
   "metadata": {},
   "outputs": [],
   "source": [
    "# !pip install matplotlib\n",
    "# !pip install fastparquet==0.7.1\n",
    "# !pip install geopandas\n",
    "# !pip install shapely\n",
    "# !pip install geopy\n",
    "# !pip install bs4\n",
    "# !pip install \"SQLAlchemy>=1.4.16\"\n",
    "# !pip install lxml"
   ]
  },
  {
   "cell_type": "code",
   "execution_count": 131,
   "id": "66dcde05",
   "metadata": {},
   "outputs": [],
   "source": [
    "# all import statements needed for the project, for example:\n",
    "import math\n",
    "import requests\n",
    "import re\n",
    "import bs4\n",
    "from bs4 import BeautifulSoup\n",
    "import matplotlib.pyplot as plt\n",
    "import pandas as pd\n",
    "import requests\n",
    "import sqlalchemy as db\n",
    "import geopandas as gpd\n",
    "import geopy.distance\n",
    "import shapely\n",
    "import os.path"
   ]
  },
  {
   "cell_type": "code",
   "execution_count": 132,
   "id": "8b622a58",
   "metadata": {},
   "outputs": [],
   "source": [
    "# any general notebook setup, like log formatting\n"
   ]
  },
  {
   "cell_type": "code",
   "execution_count": 133,
   "id": "3f1242c4",
   "metadata": {},
   "outputs": [],
   "source": [
    "# any constants you might need, for example:\n",
    "\n",
    "TAXI_URL = \"https://www.nyc.gov/site/tlc/about/tlc-trip-record-data.page\"\n",
    "\n",
    "# add other constants to refer to any local data, e.g. uber & weather\n",
    "UBER_CSV = \"uber_rides_sample.csv\"\n",
    "weather_2009_CSV=\"2009_weather.csv\"\n",
    "weather_2010_CSV=\"2010_weather.csv\"\n",
    "weather_2011_CSV=\"2011_weather.csv\"\n",
    "weather_2012_CSV=\"2012_weather.csv\"\n",
    "weather_2013_CSV=\"2013_weather.csv\"\n",
    "weather_2014_CSV=\"2014_weather.csv\"\n",
    "\n",
    "\n",
    "NEW_YORK_BOX_COORDS = ((40.560445, -74.242330), (40.908524, -73.717047))\n",
    "\n",
    "DATABASE_URL = \"sqlite:///project.db\"\n",
    "DATABASE_SCHEMA_FILE = \"schema.sql\"\n",
    "QUERY_DIRECTORY = \"queries\""
   ]
  },
  {
   "cell_type": "markdown",
   "id": "26ad10ea",
   "metadata": {},
   "source": [
    "## Part 1: Data Preprocessing"
   ]
  },
  {
   "cell_type": "markdown",
   "id": "ecf38168",
   "metadata": {},
   "source": [
    "_A checklist of requirements to keep you on track. Remove this whole cell before submitting the project. The order of these tasks aren't necessarily the order in which they need to be done. It's okay to do them in an order that makes sense to you._\n",
    "\n",
    "* [ ] Define a function that calculates the distance between two coordinates in kilometers that **only uses the `math` module** from the standard library.\n",
    "* [ ] Taxi data:\n",
    "    * [ ] Use the `re` module, and the packages `requests`, BeautifulSoup (`bs4`), and (optionally) `pandas` to programmatically download the required CSV files & load into memory.\n",
    "    * You may need to do this one file at a time - download, clean, sample. You can cache the sampling by saving it as a CSV file (and thereby freeing up memory on your computer) before moving onto the next file. \n",
    "* [ ] Weather & Uber data:\n",
    "    * [ ] Download the data manually in the link provided in the project doc.\n",
    "* [ ] All data:\n",
    "    * [ ] Load the data using `pandas`\n",
    "    * [ ] Clean the data, including:\n",
    "        * Remove unnecessary columns\n",
    "        * Remove invalid data points (take a moment to consider what's invalid)\n",
    "        * Normalize column names\n",
    "        * (Taxi & Uber data) Remove trips that start and/or end outside the designated [coordinate box](http://bboxfinder.com/#40.560445,-74.242330,40.908524,-73.717047)\n",
    "    * [ ] (Taxi data) Sample the data so that you have roughly the same amount of data points over the given date range for both Taxi data and Uber data.\n",
    "* [ ] Weather data:\n",
    "    * [ ] Split into two `pandas` DataFrames: one for required hourly data, and one for the required daily daya.\n",
    "    * [ ] You may find that the weather data you need later on does not exist at the frequency needed (daily vs hourly). You may calculate/generate samples from one to populate the other. Just document what you’re doing so we can follow along. "
   ]
  },
  {
   "cell_type": "markdown",
   "id": "32074561",
   "metadata": {},
   "source": [
    "### Calculating distance\n",
    "For uber dataset, since there is no \"distance\" column, we need to calculate distance based on pickup's and dropoff's longitude and latitude. We use the euclidean distance between start and end coordinate. In order to keep datasets consistant, we ignore the \"distance\" column in yellow taxi dataset and calculate new \"distance\" column (using the same process as uber dataset does)"
   ]
  },
  {
   "cell_type": "markdown",
   "id": "97b2730f",
   "metadata": {},
   "source": [
    "The function calculate_distance(picklon, picklat,droplon,droplat) will take pickup's and dropoff's longitudes and lantitudes, and then return the euclidean distance."
   ]
  },
  {
   "cell_type": "code",
   "execution_count": 134,
   "id": "4cbbe6cc",
   "metadata": {},
   "outputs": [],
   "source": [
    "def calculate_distance(picklon, picklat,droplon,droplat):\n",
    "    #return the euclidean distance between start and end coordinate\n",
    "    from math import sin, cos, sqrt, atan2, radians\n",
    "    R = 6373.0 #approximate radius of earth in km\n",
    "    lon1=picklon\n",
    "    lat1=picklat\n",
    "    lon2=droplon\n",
    "    lat2=droplat\n",
    "    dlon=lon2-lon1\n",
    "    dlat=lat2-lat1\n",
    "    a = sin(dlat / 2)**2 + cos(lat1) * cos(lat2) * sin(dlon / 2)**2\n",
    "    b = 2 * atan2(sqrt(a), sqrt(1 - a))\n",
    "    distance=R*b\n",
    "    return distance"
   ]
  },
  {
   "cell_type": "markdown",
   "id": "f9a73bc9",
   "metadata": {},
   "source": [
    "Function get_lon_lat(dataframe) is used to deal with taxi datasets, since some taxi datasets only contain location ID. We need to convert ID to latitude and longitude.get_lon_lat(dataframe) will return dataframe with four new columns \"pickup_longitude\",\"pickup_latitude\",\"dropoff_longitude\",and \"dropoff_latitude\"."
   ]
  },
  {
   "cell_type": "code",
   "execution_count": 135,
   "id": "be67edbe",
   "metadata": {},
   "outputs": [],
   "source": [
    "def get_lon_lat(dataframe):\n",
    "    zone_file=gpd.read_file(\"taxi_zones\")\n",
    "    zone_file['geometry']=zone_file['geometry'].to_crs(4326)\n",
    "    zone_file[\"lon\"]=zone_file['geometry'].centroid.x\n",
    "    zone_file[\"lat\"]=zone_file['geometry'].centroid.y\n",
    "    pick=zone_file[[\"LocationID\",\"lon\",\"lat\"]]\n",
    "    #rename columns\n",
    "    pick.columns=[\"PULocationID\",\"pickup_longitude\",\"pickup_latitude\"]\n",
    "    drop=zone_file[[\"LocationID\",\"lon\",\"lat\"]]\n",
    "    #rename columns\n",
    "    drop.columns=[\"DOLocationID\",\"dropoff_longitude\",\"dropoff_latitude\"]\n",
    "    #merge pick and drop to dataframe\n",
    "    #merge pick \n",
    "    dataframe=pd.merge(left=dataframe,right=pick)\n",
    "    #merge drop\n",
    "    dataframe=pd.merge(left=dataframe,right=drop)\n",
    "    return dataframe"
   ]
  },
  {
   "cell_type": "markdown",
   "id": "ad025f7d",
   "metadata": {},
   "source": [
    "Function add_distance_column(dataframe) will add new column \"distance\" through applying function calculate_distance to each row of the dataframe, which using columns \"pickup_longitude\",\"pickup_latitude\",\"dropoff_longitude\",and \"dropoff_latitude\"."
   ]
  },
  {
   "cell_type": "code",
   "execution_count": 136,
   "id": "6d6abf52",
   "metadata": {},
   "outputs": [],
   "source": [
    "def add_distance_column(dataframe):\n",
    "    dataframe[\"distance\"]=dataframe.apply(lambda x: calculate_distance(x[\"pickup_longitude\"],x[\"pickup_latitude\"],\n",
    "                                                             x[\"dropoff_longitude\"],x[\"dropoff_latitude\"]),axis=1)\n",
    "    return dataframe "
   ]
  },
  {
   "cell_type": "markdown",
   "id": "93daa717",
   "metadata": {},
   "source": [
    "### Processing Taxi Data\n"
   ]
  },
  {
   "cell_type": "markdown",
   "id": "484705e6",
   "metadata": {},
   "source": [
    "After exploring yellow taxi datasets, we find that dataset's columns, column names, datatype are different among different year. Thus, we need to clean taxi data for following analysis."
   ]
  },
  {
   "cell_type": "markdown",
   "id": "5177e9d2",
   "metadata": {},
   "source": [
    "First, we write a function called find_taxi_Parquet_urls, which will return urls for Parquet dataset from January 2009 through June 2015."
   ]
  },
  {
   "cell_type": "code",
   "execution_count": 137,
   "id": "cbd0d198",
   "metadata": {},
   "outputs": [],
   "source": [
    "def find_taxi_Parquet_urls():\n",
    "    url=TAXI_URL #url for taxi data page is set above\n",
    "    url_list=list()\n",
    "    response=requests.get(url)\n",
    "    if response.status_code!=200:\n",
    "        print(\"Failure: fail to request data\")\n",
    "        return result\n",
    "    try:\n",
    "        result_page=BeautifulSoup(response.content,'html5lib')\n",
    "        result_tags=result_page.find_all(\"a\",{\"title\":\"Yellow Taxi Trip Records\"})\n",
    "        for element in result_tags:\n",
    "            newurl=element.get('href')\n",
    "            url_list.append(newurl)\n",
    "        #only include dataset link from January 2009 through June 2015 \n",
    "        result=url_list[80:86]\n",
    "        result.extend(url_list[92:])\n",
    "        return result\n",
    "    except:\n",
    "        print(\"Failure: parsing fail\")\n"
   ]
  },
  {
   "cell_type": "code",
   "execution_count": 138,
   "id": "1629a68e",
   "metadata": {},
   "outputs": [
    {
     "data": {
      "text/plain": [
       "'https://d37ci6vzurychx.cloudfront.net/trip-data/yellow_tripdata_2016-12.parquet'"
      ]
     },
     "execution_count": 138,
     "metadata": {},
     "output_type": "execute_result"
    }
   ],
   "source": [
    "#example of using find_taxi_Parquet_urls()\n",
    "result=find_taxi_Parquet_urls()\n",
    "result[0]"
   ]
  },
  {
   "cell_type": "markdown",
   "id": "5c4a56a5",
   "metadata": {},
   "source": [
    "Function get_and_clean_month_taxi_data(url) will take one url for taxi parque as input. Then, it will normalize column name, normalize data type, drop null value, remove data point outside the coordinate box, and sampling the data based on uber dataset's size. The output of the function will be a cleaned dataframe"
   ]
  },
  {
   "cell_type": "code",
   "execution_count": 139,
   "id": "2f40130a",
   "metadata": {},
   "outputs": [],
   "source": [
    "#clean data\n",
    "def get_and_clean_month_taxi_data(url):\n",
    "    #get month Taxi data\n",
    "    df=pd.read_parquet(url,engine='fastparquet')\n",
    "    \n",
    "    #possible column name after looking at each dataset\n",
    "     #list1=['tpep_pickup_datetime',\"trip_distance\",\"PULocationID\",\"DOLocationID\",\"tip_amount\"]\n",
    "     #list2=['pickup_datetime','trip_distance','pickup_longitude','pickup_latitude','dropoff_longitude','dropoff_latitude','tip_amount']\n",
    "     #list3=['Trip_Pickup_DateTime','Trip_Distance','Start_Lon', 'Start_Lat', 'End_Lon', 'End_Lat','Tip_Amt']\n",
    "    \n",
    "    #deal with df.column contains list1\n",
    "    if df.columns.str.contains('tpep_pickup_datetime').any():#df.column contain list1         \n",
    "        #select column\n",
    "        df=df[[\"tpep_pickup_datetime\",\"PULocationID\",\"DOLocationID\",\"tip_amount\"]]\n",
    "        #From taxi_zone, we know that loction ID is valid between 1 and 263. Thus, we can use it to clean our taxi dataset.\n",
    "        #remove invalid locationID：location ID should between 1 and 263, and should be numeric\n",
    "        df=df.loc[(df[\"PULocationID\"]>=1) & (df[\"PULocationID\"]<=263) & (df[\"DOLocationID\"]>=1)\n",
    "                & (df[\"DOLocationID\"]<=263)]\n",
    "       \n",
    "        #only select pickup id not equal to drop off id\n",
    "        df=df.loc[df[\"PULocationID\"]!=df[\"DOLocationID\"]]\n",
    "        #add longitude and latitude based on location ID\n",
    "        df=get_lon_lat(df)\n",
    "        #delete id\n",
    "        del df[\"DOLocationID\"]\n",
    "        del df[\"PULocationID\"]\n",
    "        #rename 'tpep_pickup_datetime'\n",
    "        df.rename(columns={\"tpep_pickup_datetime\": \"pickup_datetime\"}, inplace=True)\n",
    "        \n",
    "    #deal with df.column contains list2\n",
    "    elif df.columns.str.contains('pickup_datetime').any():\n",
    "        df=df[['pickup_datetime','tip_amount','pickup_longitude','pickup_latitude','dropoff_longitude','dropoff_latitude']]\n",
    "        #change pickup_datetime to datetime object \n",
    "        df['pickup_datetime'] = pd.to_datetime(df['pickup_datetime'])\n",
    "        \n",
    "    #deal with df.column contains list3    \n",
    "    elif df.columns.str.contains('Trip_Pickup_DateTime').any():\n",
    "        df=df[['Trip_Pickup_DateTime','Tip_Amt','Start_Lon', 'Start_Lat', 'End_Lon', 'End_Lat']]\n",
    "        df.rename(columns={\"Trip_Pickup_DateTime\": \"pickup_datetime\",'Start_Lon':'pickup_longitude', \n",
    "                           'Start_Lat':'pickup_latitude', 'End_Lon':'dropoff_longitude', \n",
    "                           'End_Lat':'dropoff_latitude','Tip_Amt':'tip_amount'}, inplace=True)\n",
    "        #change pickup_datetime to datetime object \n",
    "        df['pickup_datetime'] = pd.to_datetime(df['pickup_datetime'])\n",
    "        \n",
    "    #remove outside the latitude/longitude coordinate box\n",
    "    df=df.loc[(df[\"pickup_longitude\"]<=-73.717047) & (df[\"pickup_longitude\"]>=-74.242330) \n",
    "    & (df[\"pickup_latitude\"]<=40.908524) & (df[\"pickup_latitude\"]>=40.560445)\n",
    "    & (df[\"dropoff_longitude\"]<=-73.717047) & (df[\"dropoff_longitude\"]>=-74.242330)\n",
    "    & (df[\"dropoff_latitude\"]<=40.908524)  & (df[\"dropoff_latitude\"]>=40.560445)]\n",
    "\n",
    "    #remove any row with nan value\n",
    "    df.dropna(inplace=True)\n",
    "    #sample dataframe, since for uber dataset,roughly 2500 data per month.\n",
    "    df=df.sample(n=2500,random_state = 1,ignore_index=True)\n",
    "    \n",
    "    return df\n",
    "\n"
   ]
  },
  {
   "cell_type": "markdown",
   "id": "1db7c5ff",
   "metadata": {},
   "source": [
    "Function get_and_clean_taxi_data() will first find all url links. Then, each url link will be feed to function get_and_clean_month_taxi_data() to get a cleaned dataframe and add \"distance\" column to it. Finally, it concats all dataframes and return it as one gigantic dataframe."
   ]
  },
  {
   "cell_type": "code",
   "execution_count": 140,
   "id": "35c9c0cd",
   "metadata": {},
   "outputs": [],
   "source": [
    "def get_and_clean_taxi_data():\n",
    "    all_taxi_dataframes = []\n",
    "    \n",
    "    all_Parquet_urls = find_taxi_Parquet_urls()\n",
    "    if os.path.exists('taxi_data.csv'):\n",
    "        taxi_data=pd.read_csv('taxi_data.csv')\n",
    "    else:        \n",
    "        for Parquet_url in all_Parquet_urls:\n",
    "            dataframe = get_and_clean_month_taxi_data(Parquet_url)\n",
    "            #add distance column \n",
    "            dataframe=add_distance_column(dataframe)\n",
    "            all_taxi_dataframes.append(dataframe)\n",
    "\n",
    "        # create one gigantic dataframe with data from every month needed\n",
    "        taxi_data = pd.concat(all_taxi_dataframes)\n",
    "        #save file\n",
    "        taxi_data.to_csv('taxi_data.csv',index=False)\n",
    "    return taxi_data"
   ]
  },
  {
   "cell_type": "markdown",
   "id": "094b4d6d",
   "metadata": {},
   "source": [
    "### Processing Uber Data\n"
   ]
  },
  {
   "cell_type": "markdown",
   "id": "e70e1902",
   "metadata": {},
   "source": [
    "After exploring uber dataset, we notices that we need to change the column type for \"pickuo_datatime\" from object to dataobject. And then selected appropriate columns for futher analysis. We also explore the Uber dataset for each month. Uber datset contains around 2500 rows for each month. Thus, we use this number to sample yellow taxi dataset, which ensure that yellow taxi dataset contain rougly equal number of sample as the uber dataset does."
   ]
  },
  {
   "cell_type": "markdown",
   "id": "bfbc736d",
   "metadata": {},
   "source": [
    "Function load_and_clean_uber_data(csv_file) takes the csv file name as an input. Then it only chooses columns \"pickup_datetime\",\"pickup_longitude\",\"pickup_latitude\",\"dropoff_longitude\", and \"dropoff_latitude\" from the original dataset. After that, it normalize data type of 'pickup_datetime'. Finally, it will return a cleaned Uber dataset."
   ]
  },
  {
   "cell_type": "code",
   "execution_count": 141,
   "id": "7c58e3a2",
   "metadata": {},
   "outputs": [],
   "source": [
    "def load_and_clean_uber_data(csv_file):\n",
    "    df=pd.read_csv(csv_file)\n",
    "    #clean data\n",
    "    #pick column\n",
    "    df=df[[\"pickup_datetime\",\"pickup_longitude\",\"pickup_latitude\",\"dropoff_longitude\",\"dropoff_latitude\"]]\n",
    "    #column type\n",
    "    df['pickup_datetime'] = pd.to_datetime(df['pickup_datetime']).dt.tz_convert(None)\n",
    "\n",
    "    return df\n",
    "    "
   ]
  },
  {
   "cell_type": "markdown",
   "id": "1a66a45a",
   "metadata": {},
   "source": [
    "Function get_uber_data() will return a cleaned dataset with one new column \"distance\" (using function add_distance_column()). "
   ]
  },
  {
   "cell_type": "code",
   "execution_count": 142,
   "id": "f836f118",
   "metadata": {},
   "outputs": [],
   "source": [
    "def get_uber_data():\n",
    "    if os.path.exists('uber_data.csv'):\n",
    "        uber_dataframe=pd.read_csv('uber_data.csv')\n",
    "    else:\n",
    "        uber_dataframe = load_and_clean_uber_data(\"UBER_CSV\")\n",
    "        #add distance column\n",
    "        uber_dataframe=add_distance_column(uber_dataframe)\n",
    "        uber_dataframe=uber_dataframe.dropna()\n",
    "        #store\n",
    "        uber_dataframe.to_csv('uber_data.csv',index=False)\n",
    "    return uber_dataframe"
   ]
  },
  {
   "cell_type": "markdown",
   "id": "45a15cbb",
   "metadata": {},
   "source": [
    "### Processing Weather Data\n",
    "\n",
    "_**TODO:** Write some prose that tells the reader what you're about to do here._"
   ]
  },
  {
   "cell_type": "code",
   "execution_count": 143,
   "id": "76e864ab",
   "metadata": {},
   "outputs": [],
   "source": [
    "def clean_month_weather_data_hourly(csv_file):\n",
    "    df = pd.read_csv(csv_file)\n",
    "    # only select columns will be used\n",
    "    selected = df[['DATE', 'HourlyWindSpeed', 'HourlyPrecipitation']]\n",
    "    # convert data type to number\n",
    "    selected['HourlyPrecipitation'] = pd.to_numeric(selected['HourlyPrecipitation'].replace(['T'], ''), errors='coerce')\n",
    "    selected['HourlyWindSpeed'] = pd.to_numeric(selected['HourlyWindSpeed'].replace(['T'], ''), errors='coerce')\n",
    "    selected['DATE'] = pd.to_datetime(selected['DATE'])\n",
    "    # filter na data\n",
    "    selected = selected.dropna()\n",
    "    return selected"
   ]
  },
  {
   "cell_type": "code",
   "execution_count": 164,
   "id": "0687581f",
   "metadata": {},
   "outputs": [],
   "source": [
    "def clean_month_weather_data_daily(csv_file):\n",
    "    df = pd.read_csv(csv_file)\n",
    "    # only select columns will be used\n",
    "    selected = df[['HourlyWindSpeed', 'HourlyPrecipitation', 'DATE']]\n",
    "    # convert data type to number\n",
    "    selected['HourlyPrecipitation'] = pd.to_numeric(selected['HourlyPrecipitation'].replace(['T'], ''), errors='coerce')\n",
    "    selected['HourlyWindSpeed'] = pd.to_numeric(selected['HourlyWindSpeed'].replace(['T'], ''), errors='coerce')\n",
    "    # filter na data\n",
    "    selected = selected.dropna()\n",
    "    # convert data time to date string\n",
    "    selected['DATE'] = pd.to_datetime(selected['DATE']).dt.strftime('%Y-%m-%d')\n",
    "    # get average wind speed and toal percipitation of each day\n",
    "    daily_df = selected.groupby(['DATE']).agg({'HourlyWindSpeed': 'mean', 'HourlyPrecipitation': 'sum'})\n",
    "    # rename df\n",
    "    daily_df.rename(columns = {'HourlyWindSpeed':'DailyWindSpeed', 'HourlyPrecipitation':'DailyPrecipitation'}, inplace = True)\n",
    "    return daily_df.reset_index()"
   ]
  },
  {
   "cell_type": "code",
   "execution_count": 145,
   "id": "3ef8945d",
   "metadata": {},
   "outputs": [],
   "source": [
    "def load_and_clean_weather_data():\n",
    "    import warnings\n",
    "    warnings.filterwarnings('ignore')\n",
    "    \n",
    "    hourly_dataframes = []\n",
    "    daily_dataframes = []\n",
    "    \n",
    "    # read all weather-like files from given path\n",
    "    import glob\n",
    "    weather_csv_files = list(glob.glob('./*weather*.csv'))\n",
    "    weather_csv_files.sort()\n",
    "\n",
    "    for csv_file in weather_csv_files:\n",
    "        hourly_dataframe = clean_month_weather_data_hourly(csv_file)\n",
    "        daily_dataframe = clean_month_weather_data_daily(csv_file)\n",
    "        hourly_dataframes.append(hourly_dataframe)\n",
    "        daily_dataframes.append(daily_dataframe)\n",
    "        \n",
    "    # create two dataframes with hourly & daily data from every month\n",
    "    hourly_data = pd.concat(hourly_dataframes)\n",
    "    daily_data = pd.concat(daily_dataframes)\n",
    "    \n",
    "    return hourly_data, daily_data"
   ]
  },
  {
   "cell_type": "markdown",
   "id": "f900f7aa",
   "metadata": {},
   "source": [
    "### Process All Data\n",
    "\n",
    "_This is where you can actually execute all the required functions._\n",
    "\n",
    "_**TODO:** Write some prose that tells the reader what you're about to do here._"
   ]
  },
  {
   "cell_type": "code",
   "execution_count": 165,
   "id": "f7cd53a6",
   "metadata": {},
   "outputs": [],
   "source": [
    "taxi_data = get_and_clean_taxi_data()\n",
    "uber_data = get_uber_data()\n",
    "hourly_weather_data, daily_weather_data = load_and_clean_weather_data()"
   ]
  },
  {
   "cell_type": "code",
   "execution_count": 147,
   "id": "1488c0ee",
   "metadata": {},
   "outputs": [
    {
     "data": {
      "text/html": [
       "<div>\n",
       "<style scoped>\n",
       "    .dataframe tbody tr th:only-of-type {\n",
       "        vertical-align: middle;\n",
       "    }\n",
       "\n",
       "    .dataframe tbody tr th {\n",
       "        vertical-align: top;\n",
       "    }\n",
       "\n",
       "    .dataframe thead th {\n",
       "        text-align: right;\n",
       "    }\n",
       "</style>\n",
       "<table border=\"1\" class=\"dataframe\">\n",
       "  <thead>\n",
       "    <tr style=\"text-align: right;\">\n",
       "      <th></th>\n",
       "      <th>pickup_datetime</th>\n",
       "      <th>pickup_longitude</th>\n",
       "      <th>pickup_latitude</th>\n",
       "      <th>dropoff_longitude</th>\n",
       "      <th>dropoff_latitude</th>\n",
       "      <th>distance</th>\n",
       "    </tr>\n",
       "  </thead>\n",
       "  <tbody>\n",
       "    <tr>\n",
       "      <th>0</th>\n",
       "      <td>2015-05-07 19:52:06</td>\n",
       "      <td>-73.999817</td>\n",
       "      <td>40.738354</td>\n",
       "      <td>-73.999512</td>\n",
       "      <td>40.723217</td>\n",
       "      <td>96.485676</td>\n",
       "    </tr>\n",
       "    <tr>\n",
       "      <th>1</th>\n",
       "      <td>2009-07-17 20:04:56</td>\n",
       "      <td>-73.994355</td>\n",
       "      <td>40.728225</td>\n",
       "      <td>-73.994710</td>\n",
       "      <td>40.750325</td>\n",
       "      <td>140.861283</td>\n",
       "    </tr>\n",
       "    <tr>\n",
       "      <th>2</th>\n",
       "      <td>2009-08-24 21:45:00</td>\n",
       "      <td>-74.005043</td>\n",
       "      <td>40.740770</td>\n",
       "      <td>-73.962565</td>\n",
       "      <td>40.772647</td>\n",
       "      <td>337.688798</td>\n",
       "    </tr>\n",
       "    <tr>\n",
       "      <th>3</th>\n",
       "      <td>2009-06-26 08:22:21</td>\n",
       "      <td>-73.976124</td>\n",
       "      <td>40.790844</td>\n",
       "      <td>-73.965316</td>\n",
       "      <td>40.803349</td>\n",
       "      <td>105.292368</td>\n",
       "    </tr>\n",
       "    <tr>\n",
       "      <th>4</th>\n",
       "      <td>2014-08-28 17:47:00</td>\n",
       "      <td>-73.925023</td>\n",
       "      <td>40.744085</td>\n",
       "      <td>-73.973082</td>\n",
       "      <td>40.761247</td>\n",
       "      <td>324.102311</td>\n",
       "    </tr>\n",
       "  </tbody>\n",
       "</table>\n",
       "</div>"
      ],
      "text/plain": [
       "       pickup_datetime  pickup_longitude  pickup_latitude  dropoff_longitude  \\\n",
       "0  2015-05-07 19:52:06        -73.999817        40.738354         -73.999512   \n",
       "1  2009-07-17 20:04:56        -73.994355        40.728225         -73.994710   \n",
       "2  2009-08-24 21:45:00        -74.005043        40.740770         -73.962565   \n",
       "3  2009-06-26 08:22:21        -73.976124        40.790844         -73.965316   \n",
       "4  2014-08-28 17:47:00        -73.925023        40.744085         -73.973082   \n",
       "\n",
       "   dropoff_latitude    distance  \n",
       "0         40.723217   96.485676  \n",
       "1         40.750325  140.861283  \n",
       "2         40.772647  337.688798  \n",
       "3         40.803349  105.292368  \n",
       "4         40.761247  324.102311  "
      ]
     },
     "execution_count": 147,
     "metadata": {},
     "output_type": "execute_result"
    }
   ],
   "source": [
    "uber_data.head()"
   ]
  },
  {
   "cell_type": "code",
   "execution_count": 227,
   "id": "2041b326",
   "metadata": {},
   "outputs": [],
   "source": [
    "# write df to local\n",
    "daily_weather_data.to_csv('dataset/daily_weather.csv')\n",
    "hourly_weather_data.to_csv('dataset/hourly_weather.csv')"
   ]
  },
  {
   "cell_type": "markdown",
   "id": "dd101f11",
   "metadata": {},
   "source": [
    "## Part 2: Storing Cleaned Data\n",
    "\n",
    "_Write some prose that tells the reader what you're about to do here._"
   ]
  },
  {
   "cell_type": "code",
   "execution_count": 169,
   "id": "f3529cf6",
   "metadata": {},
   "outputs": [],
   "source": [
    "# create a db instance to do operation in db\n",
    "engine = db.create_engine(DATABASE_URL)"
   ]
  },
  {
   "cell_type": "code",
   "execution_count": 170,
   "id": "d2bea0ff",
   "metadata": {},
   "outputs": [],
   "source": [
    "# if using SQL (as opposed to SQLAlchemy), define the commands \n",
    "# to create your 4 tables/dataframes\n",
    "HOURLY_WEATHER_SCHEMA = \"\"\"\n",
    "CREATE TABLE hourly_weather(\n",
    "   DATE timestamp PRIMARY KEY,\n",
    "   HourlyWindSpeed FLOAT,\n",
    "   HourlyPrecipitation FLOAT\n",
    ");\n",
    "\"\"\"\n",
    "\n",
    "DAILY_WEATHER_SCHEMA = \"\"\"\n",
    "CREATE TABLE daily_weather(\n",
    "   DATE timestamp PRIMARY KEY,\n",
    "   DailyWindSpeed FLOAT,\n",
    "   DailyPrecipitation FLOAT\n",
    ");\n",
    "\"\"\"\n",
    "\n",
    "TAXI_TRIPS_SCHEMA = \"\"\"\n",
    "CREATE TABLE taxis_trips(\n",
    "   pickup_datetime timestamp,\n",
    "   tip_amount FLOAT,\n",
    "   pickup_longitude DOUBLE,\n",
    "   pickup_latitude DOUBLE,\n",
    "   dropoff_longitude DOUBLE,\n",
    "   dropoff_latitude DOUBLE,\n",
    "   distance DOUBLE\n",
    ");\n",
    "\"\"\"\n",
    "\n",
    "UBER_TRIPS_SCHEMA = \"\"\"\n",
    "CREATE TABLE uber_trips(\n",
    "   pickup_datetime timestamp,\n",
    "   pickup_longitude DOUBLE,\n",
    "   pickup_latitude DOUBLE,\n",
    "   dropoff_longitude DOUBLE,\n",
    "   dropoff_latitude DOUBLE,\n",
    "   distance DOUBLE\n",
    ");\n",
    "\"\"\""
   ]
  },
  {
   "cell_type": "code",
   "execution_count": 171,
   "id": "5f41e54b",
   "metadata": {},
   "outputs": [],
   "source": [
    "# create that required schema.sql file\n",
    "with open(DATABASE_SCHEMA_FILE, \"w\") as f:\n",
    "    f.write(HOURLY_WEATHER_SCHEMA)\n",
    "    f.write(DAILY_WEATHER_SCHEMA)\n",
    "    f.write(TAXI_TRIPS_SCHEMA)\n",
    "    f.write(UBER_TRIPS_SCHEMA)"
   ]
  },
  {
   "cell_type": "code",
   "execution_count": 172,
   "id": "02eccdba",
   "metadata": {},
   "outputs": [],
   "source": [
    "# create the tables with the schema files\n",
    "with engine.connect() as connection:\n",
    "    pass"
   ]
  },
  {
   "cell_type": "markdown",
   "id": "c122964f",
   "metadata": {},
   "source": [
    "### Add Data to Database\n",
    "\n",
    "_**TODO:** Write some prose that tells the reader what you're about to do here._"
   ]
  },
  {
   "cell_type": "code",
   "execution_count": 184,
   "id": "0e68a363",
   "metadata": {},
   "outputs": [],
   "source": [
    "# convert df to sql and store data to db\n",
    "def write_dataframes_to_table(table_to_df_dict):\n",
    "    for table_name, df in table_to_df_dict.items():\n",
    "        df.to_sql(name=table_name, con=engine.connect(), index=False, if_exists='replace')"
   ]
  },
  {
   "cell_type": "code",
   "execution_count": 185,
   "id": "45d6c06c",
   "metadata": {},
   "outputs": [],
   "source": [
    "# create a map between db table and dataframe\n",
    "map_table_name_to_dataframe = {\n",
    "    \"taxi_trips\": taxi_data,\n",
    "    \"uber_trips\": uber_data,\n",
    "    \"hourly_weather\": hourly_weather_data,\n",
    "    \"daily_weather\": daily_weather_data,\n",
    "}"
   ]
  },
  {
   "cell_type": "code",
   "execution_count": 186,
   "id": "74004f96",
   "metadata": {},
   "outputs": [],
   "source": [
    "write_dataframes_to_table(map_table_name_to_dataframe)"
   ]
  },
  {
   "cell_type": "code",
   "execution_count": 210,
   "id": "f4c75bf8",
   "metadata": {},
   "outputs": [
    {
     "name": "stdout",
     "output_type": "stream",
     "text": [
      "('2016-12-02 09:50:21', 0.0, -73.98153220639182, 40.7736332930271, -73.98764554944384, 40.77596522876096, 41.61953283584464)\n",
      "('2016-12-07 18:44:21', 0.0, -73.96555356545913, 40.78247809974789, -73.98153220639182, 40.7736332930271, 116.21687492846762)\n",
      "('2016-12-04 03:00:10', 1.0, -73.99045782354733, 40.74033744175702, -73.98405213268919, 40.736824057618975, 46.37435619221744)\n",
      "('2016-12-15 21:58:41', 1.0, -73.99697141558364, 40.74227862901228, -74.00287495910837, 40.73457600733177, 61.72892130732114)\n",
      "('2016-12-16 21:18:51', 0.0, -73.99991742024713, 40.748427555065724, -73.95378223705632, 40.81797514762944, 531.5795515393457)\n",
      "('2015-05-07 19:52:06', -73.99981689453125, 40.73835372924805, -73.99951171875, 40.72321701049805, 96.48567603656004)\n",
      "('2009-07-17 20:04:56', -73.994355, 40.728225, -73.99471, 40.750325, 140.86128277560658)\n",
      "('2009-08-24 21:45:00', -74.005043, 40.74077, -73.962565, 40.772647, 337.6887977746589)\n",
      "('2009-06-26 08:22:21', -73.976124, 40.790844, -73.965316, 40.803349, 105.29236799153036)\n",
      "('2014-08-28 17:47:00', -73.925023, 40.744085, -73.97308199999999, 40.761247, 324.1023114449292)\n",
      "('2009-01-06',)\n",
      "('2009-01-06',)\n",
      "('2009-01-06',)\n",
      "('2009-01-06',)\n",
      "('2009-01-06',)\n",
      "('2009-01-06',)\n",
      "('2009-01-07',)\n",
      "('2009-01-10',)\n",
      "('2009-01-11',)\n",
      "('2009-01-15',)\n"
     ]
    }
   ],
   "source": [
    "# to expore the data in database\n",
    "with engine.connect() as connection:\n",
    "    sample = connection.execute(\"select * from taxi_trips limit 5\").fetchall()\n",
    "    for row in sample:\n",
    "        print(row)\n",
    "\n",
    "    sample = connection.execute(\"select * from uber_trips limit 5\").fetchall()\n",
    "    for row in sample:\n",
    "        print(row)\n",
    "\n",
    "    sample = connection.execute(\"select * from hourly_weather limit 5\").fetchall()\n",
    "    for row in sample:\n",
    "        print(row)\n",
    "\n",
    "    sample = connection.execute(\"select date from daily_weather limit 5\").fetchall()\n",
    "    for row in sample:\n",
    "        print(row)"
   ]
  },
  {
   "cell_type": "markdown",
   "id": "8cb6e33e",
   "metadata": {},
   "source": [
    "## Part 3: Understanding the Data"
   ]
  },
  {
   "cell_type": "markdown",
   "id": "b4753fcd",
   "metadata": {},
   "source": [
    "_A checklist of requirements to keep you on track. Remove this whole cell before submitting the project. The order of these tasks aren't necessarily the order in which they need to be done. It's okay to do them in an order that makes sense to you._\n",
    "\n",
    "* [ ] For 01-2009 through 06-2015, what hour of the day was the most popular to take a yellow taxi? The result should have 24 bins.\n",
    "* [ ] For the same time frame, what day of the week was the most popular to take an uber? The result should have 7 bins.\n",
    "* [ ] What is the 95% percentile of distance traveled for all hired trips during July 2013?\n",
    "* [ ] What were the top 10 days with the highest number of hired rides for 2009, and what was the average distance for each day?\n",
    "* [ ] Which 10 days in 2014 were the windiest, and how many hired trips were made on those days?\n",
    "* [ ] During Hurricane Sandy in NYC (Oct 29-30, 2012) and the week leading up to it, how many trips were taken each hour, and for each hour, how much precipitation did NYC receive and what was the sustained wind speed?"
   ]
  },
  {
   "cell_type": "code",
   "execution_count": 177,
   "id": "6a849e92",
   "metadata": {},
   "outputs": [],
   "source": [
    "# write sql to file at specified direction\n",
    "def write_query_to_file(query, outfile):\n",
    "    with open(QUERY_DIRECTORY + '/' + str(outfile), \"w\") as f:\n",
    "        f.write(query)"
   ]
  },
  {
   "cell_type": "markdown",
   "id": "ee70a777",
   "metadata": {},
   "source": [
    "### Query N\n",
    "\n",
    "_**TODO:** Write some prose that tells the reader what you're about to do here._\n",
    "\n",
    "_Repeat for each query_"
   ]
  },
  {
   "cell_type": "code",
   "execution_count": 222,
   "id": "db871d3c",
   "metadata": {},
   "outputs": [],
   "source": [
    "QUERY_1 = \"\"\"\n",
    "select count(1) as heat, strftime('%H', pickup_datetime) as hour_of_day\n",
    "from taxi_trips\n",
    "where strftime('%s', pickup_datetime) BETWEEN strftime('%s', '2009-01-01') AND strftime('%s', '2015-06-30')\n",
    "group by strftime('%H', pickup_datetime)\n",
    "order by heat desc\n",
    "\"\"\"\n",
    "\n",
    "QUERY_2 = \"\"\"\n",
    "select count(1) as heat, strftime('%w', pickup_datetime) as day_of_week\n",
    "from taxi_trips\n",
    "where strftime('%s', pickup_datetime) BETWEEN strftime('%s', '2009-01-01') AND strftime('%s', '2015-06-30')\n",
    "group by strftime('%w', pickup_datetime)\n",
    "order by heat desc\n",
    "\n",
    "\"\"\"\n",
    "\n",
    "QUERY_3 = \"\"\"\n",
    "select * from (\n",
    "    SELECT distance,\n",
    "        ROW_NUMBER() OVER (ORDER BY distance DESC) AS rank\n",
    "    FROM taxi_trips\n",
    "    where strftime('%Y-%m', pickup_datetime) == \"2013-07\"\n",
    ")\n",
    "where rank = (select ROUND((count(1) - 1) * (1 - 0.95)) from taxi_trips where strftime('%Y-%M', pickup_datetime) == \"2013-07\")\n",
    "\"\"\"\n",
    "\n",
    "QUERY_4= \"\"\"\n",
    "select strftime('%Y-%m-%d', pickup_datetime), count(1) as heat, avg(distance) as avg_dist\n",
    "from taxi_trips\n",
    "where strftime('%Y', pickup_datetime) = '2009'\n",
    "group by strftime('%Y-%m-%d', pickup_datetime)\n",
    "order by heat desc\n",
    "limit 10\n",
    "\"\"\"\n",
    "\n",
    "QUERY_5= \"\"\"\n",
    "with weather as (\n",
    "    select date, DailyWindSpeed from daily_weather \n",
    "    where strftime('%Y', date) = '2014'\n",
    "    order by DailyWindSpeed desc\n",
    "    limit 10\n",
    "),\n",
    "all_trip as (\n",
    "    select pickup_datetime from taxi_trips\n",
    "    where strftime('%Y', pickup_datetime) = '2014'\n",
    "    union all\n",
    "    select pickup_datetime from uber_trips\n",
    "    where strftime('%Y', pickup_datetime) = '2014'\n",
    ")\n",
    "select date, max(DailyWindSpeed), count(1) as heat\n",
    "from weather\n",
    "left join all_trip\n",
    "on weather.date = strftime('%Y-%m-%d', all_trip.pickup_datetime)\n",
    "group by weather.date\n",
    "order by date asc\n",
    "\"\"\"\n",
    "\n",
    "QUERY_6= \"\"\"\n",
    "with all_trip as (\n",
    "    select pickup_datetime from taxi_trips\n",
    "    where strftime('%s', pickup_datetime) BETWEEN strftime('%s', '2012-10-22') AND strftime('%s', '2012-10-30')\n",
    "    union all\n",
    "    select pickup_datetime from uber_trips\n",
    "    where strftime('%s', pickup_datetime) BETWEEN strftime('%s', '2012-10-22') AND strftime('%s', '2012-10-30')\n",
    "),\n",
    "trip_aggr as (\n",
    "    select strftime('%Y-%m-%d:%H', pickup_datetime) as day_hour, count(1) as heat\n",
    "    from all_trip\n",
    "    group by strftime('%Y-%m-%d:%H', pickup_datetime)\n",
    ")\n",
    "select day_hour, heat, coalesce(HourlyWindSpeed, 0), coalesce(HourlyPrecipitation,0)\n",
    "from trip_aggr\n",
    "left join hourly_weather\n",
    "on trip_aggr.day_hour = strftime('%Y-%m-%d:%H', hourly_weather.date)\n",
    "\n",
    "\"\"\""
   ]
  },
  {
   "cell_type": "code",
   "execution_count": 179,
   "id": "c5275f3a",
   "metadata": {},
   "outputs": [
    {
     "data": {
      "text/plain": [
       "[(12389, '19'),\n",
       " (11914, '18'),\n",
       " (11461, '20'),\n",
       " (11197, '21'),\n",
       " (10994, '22'),\n",
       " (9898, '23'),\n",
       " (9873, '13'),\n",
       " (9813, '17'),\n",
       " (9803, '14'),\n",
       " (9663, '12'),\n",
       " (9493, '15'),\n",
       " (9226, '11'),\n",
       " (9161, '09'),\n",
       " (8953, '08'),\n",
       " (8949, '10'),\n",
       " (8237, '16'),\n",
       " (7920, '00'),\n",
       " (7035, '07'),\n",
       " (5705, '01'),\n",
       " (4327, '02'),\n",
       " (4100, '06'),\n",
       " (3146, '03'),\n",
       " (2284, '04'),\n",
       " (1959, '05')]"
      ]
     },
     "execution_count": 179,
     "metadata": {},
     "output_type": "execute_result"
    }
   ],
   "source": [
    "# get retrieval result of given sql\n",
    "engine.execute(QUERY_1).fetchall()"
   ]
  },
  {
   "cell_type": "code",
   "execution_count": 180,
   "id": "6c0d2c2f",
   "metadata": {},
   "outputs": [
    {
     "data": {
      "text/plain": [
       "[(30387, '5'),\n",
       " (30092, '4'),\n",
       " (29847, '6'),\n",
       " (28773, '3'),\n",
       " (27333, '2'),\n",
       " (25816, '0'),\n",
       " (25252, '1')]"
      ]
     },
     "execution_count": 180,
     "metadata": {},
     "output_type": "execute_result"
    }
   ],
   "source": [
    "engine.execute(QUERY_2).fetchall()"
   ]
  },
  {
   "cell_type": "code",
   "execution_count": 181,
   "id": "fd3d0949",
   "metadata": {},
   "outputs": [
    {
     "data": {
      "text/plain": [
       "[(1409.7644893321788, 24)]"
      ]
     },
     "execution_count": 181,
     "metadata": {},
     "output_type": "execute_result"
    }
   ],
   "source": [
    "engine.execute(QUERY_3).fetchall()"
   ]
  },
  {
   "cell_type": "code",
   "execution_count": 182,
   "id": "b3614015",
   "metadata": {},
   "outputs": [
    {
     "data": {
      "text/plain": [
       "[('2009-12-11', 122, 202.03208855521092),\n",
       " ('2009-09-11', 115, 225.6688313336309),\n",
       " ('2009-11-07', 114, 199.23388491589873),\n",
       " ('2009-09-25', 112, 210.44961517104664),\n",
       " ('2009-12-16', 111, 248.8309165395382),\n",
       " ('2009-02-21', 109, 209.47261923781997),\n",
       " ('2009-08-20', 107, 183.8997734534042),\n",
       " ('2009-07-31', 107, 214.2924394368456),\n",
       " ('2009-01-30', 107, 230.13935125478534),\n",
       " ('2009-11-19', 106, 271.54292330137537)]"
      ]
     },
     "execution_count": 182,
     "metadata": {},
     "output_type": "execute_result"
    }
   ],
   "source": [
    "engine.execute(QUERY_4).fetchall()"
   ]
  },
  {
   "cell_type": "code",
   "execution_count": 205,
   "id": "ff60703e",
   "metadata": {},
   "outputs": [
    {
     "data": {
      "text/plain": [
       "[('2014-01-02', 12.521739130434783, 122),\n",
       " ('2014-01-07', 13.083333333333334, 158),\n",
       " ('2014-02-13', 12.454545454545455, 134),\n",
       " ('2014-03-13', 14.130434782608695, 210),\n",
       " ('2014-03-26', 11.954545454545455, 174),\n",
       " ('2014-03-29', 11.948717948717949, 200),\n",
       " ('2014-11-02', 10.727272727272727, 163),\n",
       " ('2014-12-07', 11.826086956521738, 164),\n",
       " ('2014-12-08', 11.5, 160),\n",
       " ('2014-12-09', 11.565217391304348, 156)]"
      ]
     },
     "execution_count": 205,
     "metadata": {},
     "output_type": "execute_result"
    }
   ],
   "source": [
    "engine.execute(QUERY_5).fetchall()"
   ]
  },
  {
   "cell_type": "code",
   "execution_count": 223,
   "id": "bdf119c3",
   "metadata": {},
   "outputs": [
    {
     "data": {
      "text/plain": [
       "[('2012-10-22:00', 3, 7.0, 0.0),\n",
       " ('2012-10-22:01', 2, 5.0, 0.0),\n",
       " ('2012-10-22:02', 1, 7.0, 0.0),\n",
       " ('2012-10-22:03', 1, 0.0, 0.0),\n",
       " ('2012-10-22:05', 1, 0.0, 0.0),\n",
       " ('2012-10-22:06', 4, 5.0, 0.0),\n",
       " ('2012-10-22:07', 10, 3.0, 0.0),\n",
       " ('2012-10-22:08', 7, 3.0, 0.0),\n",
       " ('2012-10-22:09', 9, 5.0, 0.0),\n",
       " ('2012-10-22:10', 7, 0, 0),\n",
       " ('2012-10-22:11', 13, 0, 0),\n",
       " ('2012-10-22:12', 11, 11.0, 0.0),\n",
       " ('2012-10-22:13', 12, 0, 0),\n",
       " ('2012-10-22:14', 2, 7.0, 0.0),\n",
       " ('2012-10-22:15', 4, 6.0, 0.0),\n",
       " ('2012-10-22:16', 7, 3.0, 0.0),\n",
       " ('2012-10-22:17', 9, 7.0, 0.0),\n",
       " ('2012-10-22:18', 11, 5.0, 0.0),\n",
       " ('2012-10-22:19', 7, 5.0, 0.0),\n",
       " ('2012-10-22:20', 9, 3.0, 0.0),\n",
       " ('2012-10-22:21', 6, 0.0, 0.0),\n",
       " ('2012-10-22:22', 8, 3.0, 0.0),\n",
       " ('2012-10-22:23', 3, 3.0, 0.0),\n",
       " ('2012-10-23:00', 5, 0, 0),\n",
       " ('2012-10-23:01', 2, 0, 0),\n",
       " ('2012-10-23:05', 3, 0, 0),\n",
       " ('2012-10-23:06', 3, 0, 0),\n",
       " ('2012-10-23:07', 11, 0, 0),\n",
       " ('2012-10-23:08', 12, 0, 0),\n",
       " ('2012-10-23:09', 9, 0, 0),\n",
       " ('2012-10-23:10', 10, 0, 0),\n",
       " ('2012-10-23:11', 9, 0, 0),\n",
       " ('2012-10-23:12', 4, 0, 0),\n",
       " ('2012-10-23:13', 9, 0, 0),\n",
       " ('2012-10-23:14', 11, 0, 0),\n",
       " ('2012-10-23:15', 7, 0, 0),\n",
       " ('2012-10-23:16', 2, 0, 0),\n",
       " ('2012-10-23:17', 10, 0, 0),\n",
       " ('2012-10-23:18', 10, 0, 0),\n",
       " ('2012-10-23:19', 3, 0, 0),\n",
       " ('2012-10-23:20', 15, 0.0, 0.02),\n",
       " ('2012-10-23:21', 10, 0, 0),\n",
       " ('2012-10-23:22', 12, 0.0, 0.01),\n",
       " ('2012-10-23:23', 9, 0, 0),\n",
       " ('2012-10-24:00', 2, 3.0, 0.0),\n",
       " ('2012-10-24:01', 1, 5.0, 0.0),\n",
       " ('2012-10-24:02', 5, 5.0, 0.0),\n",
       " ('2012-10-24:03', 1, 7.0, 0.0),\n",
       " ('2012-10-24:04', 1, 7.0, 0.0),\n",
       " ('2012-10-24:05', 5, 6.0, 0.0),\n",
       " ('2012-10-24:06', 3, 3.0, 0.0),\n",
       " ('2012-10-24:07', 10, 0, 0),\n",
       " ('2012-10-24:08', 8, 0, 0),\n",
       " ('2012-10-24:09', 8, 0, 0),\n",
       " ('2012-10-24:10', 6, 7.0, 0.0),\n",
       " ('2012-10-24:11', 7, 7.0, 0.0),\n",
       " ('2012-10-24:12', 5, 0, 0),\n",
       " ('2012-10-24:13', 13, 8.0, 0.0),\n",
       " ('2012-10-24:14', 6, 7.0, 0.0),\n",
       " ('2012-10-24:15', 8, 7.0, 0.0),\n",
       " ('2012-10-24:16', 5, 8.0, 0.0),\n",
       " ('2012-10-24:17', 10, 5.0, 0.0),\n",
       " ('2012-10-24:18', 5, 7.0, 0.0),\n",
       " ('2012-10-24:19', 11, 8.0, 0.0),\n",
       " ('2012-10-24:20', 15, 3.0, 0.0),\n",
       " ('2012-10-24:21', 13, 5.0, 0.0),\n",
       " ('2012-10-24:22', 14, 6.0, 0.0),\n",
       " ('2012-10-24:23', 6, 0.0, 0.0),\n",
       " ('2012-10-25:00', 6, 3.0, 0.0),\n",
       " ('2012-10-25:01', 2, 3.0, 0.0),\n",
       " ('2012-10-25:02', 3, 3.0, 0.0),\n",
       " ('2012-10-25:04', 1, 6.0, 0.0),\n",
       " ('2012-10-25:05', 3, 0.0, 0.0),\n",
       " ('2012-10-25:06', 5, 5.0, 0.0),\n",
       " ('2012-10-25:07', 9, 6.0, 0.0),\n",
       " ('2012-10-25:08', 14, 5.0, 0.0),\n",
       " ('2012-10-25:09', 4, 3.0, 0.0),\n",
       " ('2012-10-25:10', 9, 6.0, 0.0),\n",
       " ('2012-10-25:11', 9, 0.0, 0.0),\n",
       " ('2012-10-25:12', 10, 6.0, 0.0),\n",
       " ('2012-10-25:13', 8, 0.0, 0.0),\n",
       " ('2012-10-25:14', 9, 5.0, 0.0),\n",
       " ('2012-10-25:15', 6, 5.0, 0.0),\n",
       " ('2012-10-25:16', 4, 0.0, 0.0),\n",
       " ('2012-10-25:17', 9, 3.0, 0.0),\n",
       " ('2012-10-25:18', 10, 0.0, 0.0),\n",
       " ('2012-10-25:19', 5, 0.0, 0.0),\n",
       " ('2012-10-25:20', 19, 3.0, 0.0),\n",
       " ('2012-10-25:21', 16, 3.0, 0.0),\n",
       " ('2012-10-25:22', 14, 3.0, 0.0),\n",
       " ('2012-10-25:23', 10, 0.0, 0.0),\n",
       " ('2012-10-26:00', 5, 5.0, 0.0),\n",
       " ('2012-10-26:01', 6, 0.0, 0.0),\n",
       " ('2012-10-26:02', 4, 0.0, 0.0),\n",
       " ('2012-10-26:03', 4, 3.0, 0.0),\n",
       " ('2012-10-26:04', 6, 0.0, 0.0),\n",
       " ('2012-10-26:05', 2, 0.0, 0.0),\n",
       " ('2012-10-26:06', 4, 0.0, 0.0),\n",
       " ('2012-10-26:07', 7, 3.0, 0.0),\n",
       " ('2012-10-26:08', 12, 3.0, 0.0),\n",
       " ('2012-10-26:09', 11, 3.0, 0.0),\n",
       " ('2012-10-26:10', 7, 3.0, 0.0),\n",
       " ('2012-10-26:11', 9, 3.0, 0.0),\n",
       " ('2012-10-26:12', 5, 0.0, 0.0),\n",
       " ('2012-10-26:13', 13, 3.0, 0.0),\n",
       " ('2012-10-26:14', 7, 3.0, 0.0),\n",
       " ('2012-10-26:15', 6, 0.0, 0.0),\n",
       " ('2012-10-26:16', 6, 0.0, 0.0),\n",
       " ('2012-10-26:17', 5, 0.0, 0.0),\n",
       " ('2012-10-26:18', 6, 0.0, 0.0),\n",
       " ('2012-10-26:19', 9, 0.0, 0.0),\n",
       " ('2012-10-26:20', 14, 3.0, 0.0),\n",
       " ('2012-10-26:21', 8, 3.0, 0.0),\n",
       " ('2012-10-26:22', 14, 0.0, 0.0),\n",
       " ('2012-10-26:23', 9, 0.0, 0.0),\n",
       " ('2012-10-27:00', 7, 3.0, 0.0),\n",
       " ('2012-10-27:01', 7, 0.0, 0.0),\n",
       " ('2012-10-27:02', 9, 3.0, 0.0),\n",
       " ('2012-10-27:03', 7, 0.0, 0.0),\n",
       " ('2012-10-27:04', 2, 6.0, 0.0),\n",
       " ('2012-10-27:05', 2, 6.0, 0.0),\n",
       " ('2012-10-27:06', 3, 6.0, 0.0),\n",
       " ('2012-10-27:07', 4, 3.0, 0.0),\n",
       " ('2012-10-27:09', 9, 6.0, 0.0),\n",
       " ('2012-10-27:10', 5, 9.0, 0.0),\n",
       " ('2012-10-27:11', 2, 6.0, 0.0),\n",
       " ('2012-10-27:12', 8, 8.0, 0.0),\n",
       " ('2012-10-27:13', 6, 8.0, 0.0),\n",
       " ('2012-10-27:14', 8, 10.0, 0.0),\n",
       " ('2012-10-27:15', 4, 10.0, 0.0),\n",
       " ('2012-10-27:16', 10, 7.0, 0.0),\n",
       " ('2012-10-27:17', 15, 7.0, 0.0),\n",
       " ('2012-10-27:18', 11, 7.0, 0.0),\n",
       " ('2012-10-27:19', 7, 9.0, 0.0),\n",
       " ('2012-10-27:20', 13, 7.0, 0.0),\n",
       " ('2012-10-27:21', 8, 9.0, 0.0),\n",
       " ('2012-10-27:22', 14, 9.0, 0.0),\n",
       " ('2012-10-27:23', 13, 8.0, 0.0),\n",
       " ('2012-10-28:00', 11, 11.0, 0.0),\n",
       " ('2012-10-28:01', 21, 8.0, 0.0),\n",
       " ('2012-10-28:02', 10, 8.0, 0.0),\n",
       " ('2012-10-28:03', 6, 9.0, 0.0),\n",
       " ('2012-10-28:04', 7, 10.0, 0.0),\n",
       " ('2012-10-28:05', 4, 11.0, 0.0),\n",
       " ('2012-10-28:06', 3, 10.0, 0.0),\n",
       " ('2012-10-28:07', 6, 11.0, 0.0),\n",
       " ('2012-10-28:08', 2, 11.0, 0.0),\n",
       " ('2012-10-28:09', 8, 11.0, 0.0),\n",
       " ('2012-10-28:10', 5, 10.0, 0.0),\n",
       " ('2012-10-28:11', 7, 8.0, 0.0),\n",
       " ('2012-10-28:12', 6, 7.0, 0.0),\n",
       " ('2012-10-28:13', 7, 13.0, 0.0),\n",
       " ('2012-10-28:14', 11, 13.0, 0.0),\n",
       " ('2012-10-28:15', 11, 13.0, 0.0),\n",
       " ('2012-10-28:16', 9, 16.0, 0.0),\n",
       " ('2012-10-28:17', 6, 11.0, 0.0),\n",
       " ('2012-10-28:18', 6, 15.0, 0.0),\n",
       " ('2012-10-28:19', 5, 14.0, 0.0),\n",
       " ('2012-10-28:20', 5, 16.0, 0.0),\n",
       " ('2012-10-28:21', 7, 14.0, 0.0),\n",
       " ('2012-10-28:22', 4, 16.0, 0.0),\n",
       " ('2012-10-28:23', 1, 14.0, 0.0),\n",
       " ('2012-10-29:00', 2, 16.0, 0.0),\n",
       " ('2012-10-29:01', 1, 11.0, 0.0),\n",
       " ('2012-10-29:02', 2, 13.0, 0.0),\n",
       " ('2012-10-29:04', 1, 15.0, 0.0),\n",
       " ('2012-10-29:06', 1, 16.0, 0.02),\n",
       " ('2012-10-29:07', 2, 17.0, 0.02),\n",
       " ('2012-10-29:08', 1, 0, 0),\n",
       " ('2012-10-29:09', 4, 16.0, 0.0),\n",
       " ('2012-10-29:11', 5, 15.0, 0.01),\n",
       " ('2012-10-29:11', 5, 17.0, 0.05),\n",
       " ('2012-10-29:12', 5, 15.0, 0.02),\n",
       " ('2012-10-29:12', 5, 21.0, 0.03),\n",
       " ('2012-10-29:12', 5, 18.0, 0.04),\n",
       " ('2012-10-29:12', 5, 22.0, 0.05),\n",
       " ('2012-10-29:12', 5, 20.0, 0.06),\n",
       " ('2012-10-29:14', 4, 23.0, 0.03),\n",
       " ('2012-10-29:14', 4, 28.0, 0.05),\n",
       " ('2012-10-29:14', 4, 24.0, 0.02),\n",
       " ('2012-10-29:15', 3, 26.0, 0.07),\n",
       " ('2012-10-29:15', 3, 24.0, 0.11),\n",
       " ('2012-10-29:17', 1, 29.0, 0.04),\n",
       " ('2012-10-29:17', 1, 14.0, 0.05),\n",
       " ('2012-10-29:17', 1, 18.0, 0.06),\n",
       " ('2012-10-29:17', 1, 25.0, 0.07),\n",
       " ('2012-10-29:18', 4, 21.0, 0.02),\n",
       " ('2012-10-29:18', 4, 25.0, 0.02),\n",
       " ('2012-10-29:19', 1, 25.0, 0.01),\n",
       " ('2012-10-29:21', 1, 15.0, 0.0)]"
      ]
     },
     "execution_count": 223,
     "metadata": {},
     "output_type": "execute_result"
    }
   ],
   "source": [
    "engine.execute(QUERY_6).fetchall()"
   ]
  },
  {
   "cell_type": "code",
   "execution_count": 225,
   "id": "a2ef04df",
   "metadata": {},
   "outputs": [],
   "source": [
    "write_query_to_file(QUERY_1, \"taxi_hourly_trip.sql\")\n",
    "write_query_to_file(QUERY_2, \"uber_daily_trip.sql\")\n",
    "write_query_to_file(QUERY_3, \"upper_trip_distance.sql\")\n",
    "write_query_to_file(QUERY_4, \"2009_peak_ten.sql\")\n",
    "write_query_to_file(QUERY_5, \"trip_count_windiest.sql\")\n",
    "write_query_to_file(QUERY_6, \"Hurricane_Sandy.sql\")"
   ]
  },
  {
   "cell_type": "markdown",
   "id": "a13ced42",
   "metadata": {},
   "source": [
    "## Part 4: Visualizing the Data\n",
    "\n",
    "_A checklist of requirements to keep you on track. Remove this whole cell before submitting the project. The order of these tasks aren't necessarily the order in which they need to be done. It's okay to do them in an order that makes sense to you._\n",
    "\n",
    "* [ ] Create an appropriate visualization for the first query/question in part 3\n",
    "* [ ] Create a visualization that shows the average distance traveled per month (regardless of year - so group by each month). Include the 90% confidence interval around the mean in the visualization\n",
    "* [ ] Define three lat/long coordinate boxes around the three major New York airports: LGA, JFK, and EWR (you can use bboxfinder to help). Create a visualization that compares what day of the week was most popular for drop offs for each airport.\n",
    "* [ ] Create a heatmap of all hired trips over a map of the area. Consider using KeplerGL or another library that helps generate geospatial visualizations.\n",
    "* [ ] Create a scatter plot that compares tip amount versus distance.\n",
    "* [ ] Create another scatter plot that compares tip amount versus precipitation amount.\n",
    "\n",
    "_Be sure these cells are executed so that the visualizations are rendered when the notebook is submitted._"
   ]
  },
  {
   "cell_type": "markdown",
   "id": "6d9eef42",
   "metadata": {},
   "source": [
    "### Visualization N\n",
    "\n",
    "_**TODO:** Write some prose that tells the reader what you're about to do here._\n",
    "\n",
    "_Repeat for each visualization._\n",
    "\n",
    "_The example below makes use of the `matplotlib` library. There are other libraries, including `pandas` built-in plotting library, kepler for geospatial data representation, `seaborn`, and others._"
   ]
  },
  {
   "cell_type": "code",
   "execution_count": null,
   "id": "0de8394c",
   "metadata": {},
   "outputs": [],
   "source": [
    "# use a more descriptive name for your function\n",
    "def plot_visual_n(dataframe):\n",
    "    figure, axes = plt.subplots(figsize=(20, 10))\n",
    "    \n",
    "    values = \"...\"  # use the dataframe to pull out values needed to plot\n",
    "    \n",
    "    # you may want to use matplotlib to plot your visualizations;\n",
    "    # there are also many other plot types (other \n",
    "    # than axes.plot) you can use\n",
    "    axes.plot(values, \"...\")\n",
    "    # there are other methods to use to label your axes, to style \n",
    "    # and set up axes labels, etc\n",
    "    axes.set_title(\"Some Descriptive Title\")\n",
    "    \n",
    "    plt.show()"
   ]
  },
  {
   "cell_type": "code",
   "execution_count": null,
   "id": "847ced2f",
   "metadata": {},
   "outputs": [],
   "source": [
    "def get_data_for_visual_n():\n",
    "    # Query SQL database for the data needed.\n",
    "    # You can put the data queried into a pandas dataframe, if you wish\n",
    "    raise NotImplemented()"
   ]
  },
  {
   "cell_type": "code",
   "execution_count": null,
   "id": "3c63e845",
   "metadata": {},
   "outputs": [],
   "source": [
    "some_dataframe = get_data_for_visual_n()\n",
    "plot_visual_n(some_dataframe)"
   ]
  }
 ],
 "metadata": {
  "kernelspec": {
   "display_name": "Python 3.9.15 ('base')",
   "language": "python",
   "name": "python3"
  },
  "language_info": {
   "codemirror_mode": {
    "name": "ipython",
    "version": 3
   },
   "file_extension": ".py",
   "mimetype": "text/x-python",
   "name": "python",
   "nbconvert_exporter": "python",
   "pygments_lexer": "ipython3",
   "version": "3.9.15"
  },
  "vscode": {
   "interpreter": {
    "hash": "12ae8a920e78ac96d35368b189fb14fa82afcad62d0ccbec913e3c5630255fe3"
   }
  }
 },
 "nbformat": 4,
 "nbformat_minor": 5
}
